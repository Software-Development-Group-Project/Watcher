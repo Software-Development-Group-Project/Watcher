{
 "cells": [
  {
   "cell_type": "code",
   "execution_count": null,
   "metadata": {},
   "outputs": [],
   "source": [
    "import cv2\n",
    "import os\n",
    "from keras.models import load_model\n",
    "import numpy as np\n",
    "from PIL import Image"
   ]
  },
  {
   "cell_type": "code",
   "execution_count": 2,
   "id": "flush-westminster",
   "metadata": {},
   "outputs": [],
   "source": [
    "cwd = os.getcwd()\n",
    "model = load_model(os.path.join(cwd, 'model\\\\face_recognition.h5'))\n",
    "face_cascade = cv2.CascadeClassifier(os.path.join(cwd, \"cascades\\\\haarcascade_frontalface_default.xml\"))"
   ]
  },
  {
   "cell_type": "code",
   "execution_count": 5,
   "id": "prospective-quest",
   "metadata": {},
   "outputs": [],
   "source": [
    "cwd = os.getcwd()\n",
    "model = load_model(os.path.join(cwd, 'model\\\\face_recognition.h5'))\n",
    "face_cascade = cv2.CascadeClassifier(os.path.join(cwd, \"cascades\\haarcascade_frontalface_default.xml\"))\n",
    "classes={0:\"jenoshanan\", 1:'nirahulan', 2:'thuwarakan', 3:'vithu'} "
   ]
  },
  {
   "cell_type": "code",
   "execution_count": null,
   "id": "crazy-preserve",
   "metadata": {},
   "outputs": [],
   "source": [
    "cam = cv2.VideoCapture(0)\n",
    "while True:\n",
    "    ret, frame = cam.read()\n",
    "    faces = face_cascade.detectMultiScale(frame, 1.3, 5)\n",
    "    for (x, y, w, h) in faces:\n",
    "        cv2.rectangle(frame, (x, y), (x + w, y + h), (255, 0, 0), 2)\n",
    "        face = frame[y:y+h, x:x+w]\n",
    "        if type(face) is np.ndarray:\n",
    "            face = cv2.resize(face, (120, 120))\n",
    "            img = Image.fromarray(face, 'RGB')\n",
    "            img_array = np.array(img)\n",
    "            img_array = np.expand_dims(img_array, axis=0)\n",
    "            pred = model.predict(img_array)\n",
    "            label = classes[pred.argmax()]\n",
    "        cv2.putText(frame, str(label), (x, y), cv2.FONT_HERSHEY_SIMPLEX, .7, (0, 255, 0), 2)\n",
    "    cv2.imshow('frame', frame)\n",
    "    if cv2.waitKey(1) & 0xFF == ord('q'):\n",
    "        break\n",
    "cam.release()\n",
    "cv2.destroyAllWindows()\n"
   ]
  }
 ],
 "metadata": {
  "kernelspec": {
   "display_name": "Python 3",
   "language": "python",
   "name": "python3"
  },
  "language_info": {
   "codemirror_mode": {
    "name": "ipython",
    "version": 3
   },
   "file_extension": ".py",
   "mimetype": "text/x-python",
   "name": "python",
   "nbconvert_exporter": "python",
   "pygments_lexer": "ipython3",
   "version": "3.9.0"
  }
 },
 "nbformat": 4,
 "nbformat_minor": 5
}