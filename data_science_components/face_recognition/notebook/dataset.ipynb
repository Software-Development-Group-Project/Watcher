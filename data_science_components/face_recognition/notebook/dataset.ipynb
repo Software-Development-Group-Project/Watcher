{
 "cells": [
  {
   "cell_type": "code",
   "execution_count": null,
   "metadata": {},
   "outputs": [],
   "source": [
    "!pip install opencv-python"
   ]
  },
  {
   "cell_type": "code",
   "execution_count": 2,
   "id": "labeled-badge",
   "metadata": {},
   "outputs": [],
   "source": [
    "from time import sleep\n",
    "import cv2, os"
   ]
  },
  {
   "cell_type": "code",
   "execution_count": null,
   "metadata": {},
   "outputs": [],
   "source": [
    "cwd = os.getcwd()"
   ]
  },
  {
   "cell_type": "code",
   "execution_count": null,
   "metadata": {},
   "outputs": [],
   "source": [
    "def face_dataset_creater(username, path, numberOfImages):    \n",
    "    cam = cv2.VideoCapture(0, cv2.CAP_DSHOW)\n",
    "    detector = cv2.CascadeClassifier(os.path.join(cwd, \"cascades/haarcascade_frontalface_default.xml\"))\n",
    "    sampleNum = 0\n",
    "\n",
    "    while True:\n",
    "        ret, img = cam.read()\n",
    "        gray = cv2.cvtColor(img, cv2.COLOR_BGR2GRAY)\n",
    "        faces = detector.detectMultiScale(gray, 1.3, 5)\n",
    "\n",
    "        for (x, y, w, h) in faces:\n",
    "            cv2.rectangle(img, (x, y), (x + w, y + h), (255, 0, 0), 2)\n",
    "            sampleNum += 1\n",
    "            if(os.path.exists(path)) is False:\n",
    "                os.mkdir(path)    \n",
    "            cv2.imwrite(os.path.join(path, username+\".\"+str(sampleNum)+\".jpg\"), img[y:y+h, x:x+w])\n",
    "        cv2.putText(img, (\"Image No  : \"+str(sampleNum)), (20, 30), cv2.FONT_HERSHEY_SIMPLEX, 0.5, (255, 255, 255), 1, cv2.LINE_AA)\n",
    "        cv2.putText(img, (\"Image More: \"+str(numberOfImages-sampleNum)), (20, 60), cv2.FONT_HERSHEY_SIMPLEX, 0.5, (255, 255, 255), 1, cv2.LINE_AA)\n",
    "        cv2.imshow('dataset', img)\n",
    "\n",
    "        if cv2.waitKey(1) & 0xFF == ord('q'):\n",
    "            break\n",
    "        elif cv2.waitKey(1) & 0xFF == ord('w'):\n",
    "            sleep(20)\n",
    "        elif sampleNum > numberOfImages:\n",
    "            break\n",
    "\n",
    "    cam.release()\n",
    "    cv2.destroyAllWindows()"
   ]
  },
  {
   "cell_type": "code",
   "execution_count": null,
   "id": "heavy-survivor",
   "metadata": {},
   "outputs": [],
   "source": [
    "username = str(input(\"Enter user name? [use simple letter] \"))\n",
    "\n",
    "print(\"\\n* Take images in different ligtings condition \\n* Press w to wait for 10 seconds [Program become not responding for a while]\\n* Press q to stop the program\\n\")\n",
    "\n",
    "path = os.path.join(cwd, \"testing\\\\\"+username)\n",
    "face_dataset_creater(username, path, 11000)\n",
    "\n",
    "path = os.path.join(cwd, \"training\\\\\"+username)\n",
    "face_dataset_creater(username, path, 4000)"
   ]
  }
 ],
 "metadata": {
  "kernelspec": {
   "display_name": "Python 3",
   "language": "python",
   "name": "python3"
  },
  "language_info": {
   "codemirror_mode": {
    "name": "ipython",
    "version": 3
   },
   "file_extension": ".py",
   "mimetype": "text/x-python",
   "name": "python",
   "nbconvert_exporter": "python",
   "pygments_lexer": "ipython3",
   "version": "3.9.0"
  }
 },
 "nbformat": 4,
 "nbformat_minor": 5
}